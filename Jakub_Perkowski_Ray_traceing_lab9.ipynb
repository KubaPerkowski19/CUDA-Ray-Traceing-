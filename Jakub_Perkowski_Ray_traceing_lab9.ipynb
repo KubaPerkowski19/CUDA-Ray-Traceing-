{
  "nbformat": 4,
  "nbformat_minor": 0,
  "metadata": {
    "colab": {
      "provenance": []
    },
    "kernelspec": {
      "name": "python3",
      "display_name": "Python 3"
    },
    "language_info": {
      "name": "python"
    },
    "gpuClass": "standard",
    "accelerator": "GPU"
  },
  "cells": [
    {
      "cell_type": "code",
      "execution_count": 1,
      "metadata": {
        "colab": {
          "base_uri": "https://localhost:8080/"
        },
        "id": "MS9zr4XbgS-B",
        "outputId": "52ba9f45-06a3-40d4-9659-ba19b7e9fcd8"
      },
      "outputs": [
        {
          "output_type": "stream",
          "name": "stdout",
          "text": [
            "nvcc: NVIDIA (R) Cuda compiler driver\n",
            "Copyright (c) 2005-2021 NVIDIA Corporation\n",
            "Built on Sun_Feb_14_21:12:58_PST_2021\n",
            "Cuda compilation tools, release 11.2, V11.2.152\n",
            "Build cuda_11.2.r11.2/compiler.29618528_0\n"
          ]
        }
      ],
      "source": [
        "!nvcc --version"
      ]
    },
    {
      "cell_type": "code",
      "source": [
        "!pip install git+https://github.com/andreinechaev/nvcc4jupyter.git"
      ],
      "metadata": {
        "colab": {
          "base_uri": "https://localhost:8080/"
        },
        "id": "_5siYfJcgXuI",
        "outputId": "85ae7adb-0d84-43c9-9378-0711f111fb07"
      },
      "execution_count": 2,
      "outputs": [
        {
          "output_type": "stream",
          "name": "stdout",
          "text": [
            "Looking in indexes: https://pypi.org/simple, https://us-python.pkg.dev/colab-wheels/public/simple/\n",
            "Collecting git+https://github.com/andreinechaev/nvcc4jupyter.git\n",
            "  Cloning https://github.com/andreinechaev/nvcc4jupyter.git to /tmp/pip-req-build-k66g47tm\n",
            "  Running command git clone --filter=blob:none --quiet https://github.com/andreinechaev/nvcc4jupyter.git /tmp/pip-req-build-k66g47tm\n",
            "  Resolved https://github.com/andreinechaev/nvcc4jupyter.git to commit aac710a35f52bb78ab34d2e52517237941399eff\n",
            "  Preparing metadata (setup.py) ... \u001b[?25l\u001b[?25hdone\n",
            "Building wheels for collected packages: NVCCPlugin\n",
            "  Building wheel for NVCCPlugin (setup.py) ... \u001b[?25l\u001b[?25hdone\n",
            "  Created wheel for NVCCPlugin: filename=NVCCPlugin-0.0.2-py3-none-any.whl size=4304 sha256=033651bbca5a6b8d72726ffc28a35857d7a4e75378beb2ab36820ec74a9306a1\n",
            "  Stored in directory: /tmp/pip-ephem-wheel-cache-ik2udrzb/wheels/f3/08/cc/e2b5b0e1c92df07dbb50a6f024a68ce090f5e7b2316b41756d\n",
            "Successfully built NVCCPlugin\n",
            "Installing collected packages: NVCCPlugin\n",
            "Successfully installed NVCCPlugin-0.0.2\n"
          ]
        }
      ]
    },
    {
      "cell_type": "code",
      "source": [
        "%load_ext nvcc_plugin"
      ],
      "metadata": {
        "colab": {
          "base_uri": "https://localhost:8080/"
        },
        "id": "5fZIKq2wgZZr",
        "outputId": "61c49762-76ce-4f2c-b18a-97df443d6bfc"
      },
      "execution_count": 3,
      "outputs": [
        {
          "output_type": "stream",
          "name": "stdout",
          "text": [
            "created output directory at /content/src\n",
            "Out bin /content/result.out\n"
          ]
        }
      ]
    },
    {
      "cell_type": "markdown",
      "source": [
        "Aby była możliwość skompilowania programów poniżej należy w oknie Google Colab w zakładce \"Środowisko wykonawcze\" zamienić \"none\" na \"GPU\" a następnie wykonać powyższe 3 linijki kodu by zainstalować środowisko\n"
      ],
      "metadata": {
        "id": "vvpRBA3A58SN"
      }
    },
    {
      "cell_type": "markdown",
      "source": [
        "CPU:"
      ],
      "metadata": {
        "id": "KRjQ8LjpM-gU"
      }
    },
    {
      "cell_type": "code",
      "source": [
        "%%cu\n",
        "#include <stdio.h>\n",
        "#define DIM 1024\n",
        "#define rnd( x ) (x * rand() / RAND_MAX)\n",
        "#define INF 2e10f\n",
        "\n",
        "struct Sphere {\n",
        "    float   r,b,g;\n",
        "    float   radius;\n",
        "    float   x,y,z;\n",
        "    float hit( float ox, float oy, float *n ) {\n",
        "      float dx = ox - x;\n",
        "      float dy = oy - y;\n",
        "      if (dx*dx + dy*dy < radius*radius) {\n",
        "        float dz = sqrtf( radius*radius - dx*dx - dy*dy );\n",
        "        *n = dz / sqrtf( radius * radius );\n",
        "        return dz + z;\n",
        "      }\n",
        "      return -INF;\n",
        "    }\n",
        "};\n",
        "\n",
        "#define SPHERES 20\n",
        "\n",
        "void kernel( Sphere *s, unsigned char *ptr, int x , int y ) {\n",
        "    // map from threadIdx/BlockIdx to pixel position\n",
        "    int offset = x + y * DIM;\n",
        "    float   ox = (x - DIM/2);\n",
        "    float   oy = (y - DIM/2);\n",
        "  \n",
        "    float   r=0, g=0, b=0;\n",
        "    float   maxz = -INF;\n",
        "    for(int i=0; i<SPHERES; i++) {\n",
        "        float   n;\n",
        "        float   t = s[i].hit( ox, oy, &n );\n",
        "        if (t > maxz) {\n",
        "          float fscale = n;\n",
        "          r = s[i].r * fscale;\n",
        "          g = s[i].g * fscale;\n",
        "          b = s[i].b * fscale;\n",
        "          maxz = t;\n",
        "        }\n",
        "    } \n",
        "\n",
        "    ptr[offset*4 + 0] = (int)(r * 255);\n",
        "    ptr[offset*4 + 1] = (int)(g * 255);\n",
        "    ptr[offset*4 + 2] = (int)(b * 255);\n",
        "    ptr[offset*4 + 3] = 255;\n",
        "}\n",
        "\n",
        "struct DataBlock{\n",
        "    unsigned char *dev_bitmap;\n",
        "};\n",
        "\n",
        "void save_to_file(unsigned char *ptr){\n",
        "  FILE *fp=fopen(\"CPU_reyTraced.ppm\",\"w\");\n",
        "  fprintf(fp,\"P3\\n%d %d\\n255\\n\", DIM, DIM);\n",
        "  for(int y=0;y<DIM;y++){\n",
        "    for(int x=0;x<DIM;x++){\n",
        "      int offset=x+y*DIM;\n",
        "      fprintf(fp,\"\\n%d %d %d\", ptr[offset*4+0], ptr[offset*4+1], ptr[offset*4+2]);\n",
        "    }\n",
        "  }\n",
        "  fclose(fp);\n",
        "}\n",
        "\n",
        "\n",
        "int main(void) {\n",
        "  \n",
        "  clock_t start, end;\n",
        "  start = clock();\n",
        "  \n",
        "  DataBlock data;\n",
        "  unsigned char *bitmap = (unsigned char*)malloc(DIM* DIM*4* sizeof(unsigned char));\n",
        "  int image_size = DIM* DIM*4;\n",
        "  Sphere *s;\n",
        "\n",
        "  Sphere *temp_s = (Sphere*)malloc(sizeof(Sphere)* SPHERES );\n",
        "\n",
        "  for (int i=0; i<SPHERES; i++) {\n",
        "    temp_s[i].r = rnd( 1.0f);\n",
        "    temp_s[i].g= rnd( 1.0f);\n",
        "    temp_s[1].b= rnd( 1.0f);\n",
        "    temp_s[i].x =rnd( 1000.0f)- 500;\n",
        "    temp_s[i].y =rnd( 1000.0f) - 500;\n",
        "    temp_s[1].z = rnd( 1000.0f) - 500;\n",
        "    temp_s[i].radius = rnd( 100.0f) + 20;\n",
        "  }\n",
        "\n",
        "  s = temp_s;\n",
        "  \n",
        "  for (int i=0; i<DIM; i++) {\n",
        "    for (int j=0; j<DIM; j++) {\n",
        "      kernel(s, bitmap, i, j);\n",
        "    }\n",
        "  }\n",
        "\n",
        "  save_to_file(bitmap);\n",
        "  \n",
        "  end = clock();\n",
        "  double elapsed_time = (double)(end - start) / CLOCKS_PER_SEC;\n",
        "  printf(\"Compilation time: %f seconds\\n\", elapsed_time);\n",
        "\n",
        "}"
      ],
      "metadata": {
        "colab": {
          "base_uri": "https://localhost:8080/"
        },
        "id": "Q87PsDOf9Ndt",
        "outputId": "3ed97b2d-9d3e-4334-a9b1-d2dde9cb0656"
      },
      "execution_count": 4,
      "outputs": [
        {
          "output_type": "stream",
          "name": "stdout",
          "text": [
            "Compilation time: 0.336729 seconds\n",
            "\n"
          ]
        }
      ]
    },
    {
      "cell_type": "markdown",
      "source": [
        "Aby wyświetlić efekt programu należy po lewej stronie okna google colab kliknąć na ikonę foldera następnie na pliku \"CPU_reyTraced.ppm\" w menu pod trzema kropkami kliknąć \"Pobierz\". Pobrany plik w formacie .ppm można przekonwertować w format .jpg / .png itp za pomocą dostępnych converterów Online by zobaczyć obraz Drugim sposobem jest otworzenie pliku za pomocą programu o nazwie IrfanVieww"
      ],
      "metadata": {
        "id": "qqE_Ht6l6AL9"
      }
    },
    {
      "cell_type": "markdown",
      "source": [
        "GPU:"
      ],
      "metadata": {
        "id": "hwksWoh0NB-8"
      }
    },
    {
      "cell_type": "code",
      "source": [
        "%%cu\n",
        "#include <stdio.h>\n",
        "#define DIM 1024\n",
        "#define rnd( x ) (x * rand() / RAND_MAX)\n",
        "#define INF 2e10f\n",
        "\n",
        "struct Sphere {\n",
        "    float   r,b,g;\n",
        "    float   radius;\n",
        "    float   x,y,z;\n",
        "    __device__ float hit( float ox, float oy, float *n ) {\n",
        "      float dx = ox - x;\n",
        "      float dy = oy - y;\n",
        "      if (dx*dx + dy*dy < radius*radius) {\n",
        "        float dz = sqrtf( radius*radius - dx*dx - dy*dy );\n",
        "        *n = dz / sqrtf( radius * radius );\n",
        "        return dz + z;\n",
        "      }\n",
        "      return -INF;\n",
        "    }\n",
        "};\n",
        "\n",
        "#define SPHERES 20\n",
        "\n",
        "__global__ void kernel( Sphere *s, unsigned char *ptr ) {\n",
        "    // map from threadIdx/BlockIdx to pixel position\n",
        "    int x = threadIdx.x + blockIdx.x * blockDim.x;\n",
        "    int y = threadIdx.y + blockIdx.y * blockDim.y;\n",
        "    int offset = x + y * blockDim.x * gridDim.x;\n",
        "    float   ox = (x - DIM/2);\n",
        "    float   oy = (y - DIM/2);\n",
        "  \n",
        "    float   r=0, g=0, b=0;\n",
        "    float   maxz = -INF;\n",
        "    for(int i=0; i<SPHERES; i++) {\n",
        "        float   n;\n",
        "        float   t = s[i].hit( ox, oy, &n );\n",
        "        if (t > maxz) {\n",
        "          float fscale = n;\n",
        "          r = s[i].r * fscale;\n",
        "          g = s[i].g * fscale;\n",
        "          b = s[i].b * fscale;\n",
        "          maxz = t;\n",
        "        }\n",
        "    } \n",
        "\n",
        "    ptr[offset*4 + 0] = (int)(r * 255);\n",
        "    ptr[offset*4 + 1] = (int)(g * 255);\n",
        "    ptr[offset*4 + 2] = (int)(b * 255);\n",
        "    ptr[offset*4 + 3] = 255;\n",
        "}\n",
        "\n",
        "struct DataBlock{\n",
        "    unsigned char *dev_bitmap;\n",
        "};\n",
        "\n",
        "void save_to_file(unsigned char *data){\n",
        "  FILE *fp=fopen(\"GPU_reyTraced.ppm\",\"w\");\n",
        "  fprintf(fp,\"P3\\n%d %d\\n255\\n\", DIM, DIM);\n",
        "  for(int y=0;y<DIM;y++){\n",
        "    for(int x=0;x<DIM;x++){\n",
        "      int offset=x+y*DIM;\n",
        "      fprintf(fp,\"\\n%d %d %d\", data[offset*4+0], data[offset*4+1], data[offset*4+2]);\n",
        "    }\n",
        "  }\n",
        "  fclose(fp);\n",
        "}\n",
        "\n",
        "int main(void) {\n",
        "  \n",
        "  cudaEvent_t start, stop;\n",
        "  cudaEventCreate( &start );\n",
        "  cudaEventCreate( &stop);\n",
        "  cudaEventRecord( start, 0);\n",
        "  \n",
        "  DataBlock data;\n",
        "  unsigned char *bitmap = (unsigned char*)malloc(DIM* DIM*4* sizeof(unsigned char));\n",
        "  int image_size = DIM* DIM*4;\n",
        "  unsigned char *dev_bitmap;\n",
        "  cudaMalloc((void**)&dev_bitmap, image_size); \n",
        "  data.dev_bitmap=dev_bitmap;\n",
        "  Sphere *s;\n",
        "\n",
        "  cudaMalloc((void**)&s, sizeof(Sphere)* SPHERES );\n",
        "\n",
        "  Sphere *temp_s = (Sphere*)malloc(sizeof(Sphere)* SPHERES );\n",
        "\n",
        "  for (int i=0; i<SPHERES; i++) {\n",
        "    temp_s[i].r = rnd( 1.0f);\n",
        "    temp_s[i].g= rnd( 1.0f);\n",
        "    temp_s[1].b= rnd( 1.0f);\n",
        "    temp_s[i].x =rnd( 1000.0f)- 500;\n",
        "    temp_s[i].y =rnd( 1000.0f) - 500;\n",
        "    temp_s[1].z = rnd( 1000.0f) - 500;\n",
        "    temp_s[i].radius = rnd( 100.0f) + 20;\n",
        "  }\n",
        "\n",
        "cudaMemcpy( s, temp_s, sizeof(Sphere)* SPHERES, cudaMemcpyHostToDevice);\n",
        "free( temp_s);\n",
        "\n",
        "dim3 grids(DIM/16,DIM/16);\n",
        "dim3 threads(16,16);\n",
        "\n",
        "kernel<<<grids,threads>>>(s, dev_bitmap);\n",
        "\n",
        "cudaMemcpy( bitmap, dev_bitmap, image_size, cudaMemcpyDeviceToHost);\n",
        "\n",
        "cudaEventRecord( stop, 0);\n",
        "cudaEventSynchronize(stop);\n",
        "float elapsedTime;  \n",
        "cudaEventElapsedTime(&elapsedTime, start, stop);\n",
        "printf(\"Compilation time: %f seconds\\n\", elapsedTime/1000);\n",
        "\n",
        "cudaEventDestroy(start);\n",
        "cudaEventDestroy(stop);\n",
        "\n",
        "\n",
        "save_to_file(bitmap);\n",
        "}"
      ],
      "metadata": {
        "colab": {
          "base_uri": "https://localhost:8080/"
        },
        "id": "SYKHSZx1gbPC",
        "outputId": "51a08ce1-fe03-4b42-fb16-68f161b7f9a4"
      },
      "execution_count": 5,
      "outputs": [
        {
          "output_type": "stream",
          "name": "stdout",
          "text": [
            "Compilation time: 0.002103 seconds\n",
            "\n"
          ]
        }
      ]
    },
    {
      "cell_type": "markdown",
      "source": [
        "Aby wyświetlić efekt programu należy po lewej stronie okna google colab kliknąć na ikonę foldera następnie na pliku \"GPU_reyTraced.ppm\" w menu pod trzema kropkami kliknąć \"Pobierz\". Pobrany plik w formacie .ppm można przekonwertować w format .jpg / .png itp za pomocą dostępnych converterów Online by zobaczyć obraz Drugim sposobem jest otworzenie pliku za pomocą programu o nazwie IrfanVieww"
      ],
      "metadata": {
        "id": "bMmNhxex6Ks5"
      }
    },
    {
      "cell_type": "markdown",
      "source": [
        "Średni zysk w czasie obliczeń między CPU a GPU wynosi 200 tu krotnie mniejszy czas obliczeń na danym komputerze (0.336729 seconds => 0.002103 seconds)"
      ],
      "metadata": {
        "id": "jJTzT8Co6Pfe"
      }
    }
  ]
}